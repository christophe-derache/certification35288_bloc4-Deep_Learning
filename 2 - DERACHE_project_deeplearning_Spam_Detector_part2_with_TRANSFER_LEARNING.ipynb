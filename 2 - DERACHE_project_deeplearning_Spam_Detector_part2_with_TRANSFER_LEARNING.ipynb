{
 "cells": [
  {
   "cell_type": "markdown",
   "metadata": {},
   "source": [
    "# Project : AT&T Spam Detector 2/2\n",
    "## Using a pretrained embedding model *(transfer learning)*"
   ]
  },
  {
   "cell_type": "code",
   "execution_count": 1,
   "metadata": {},
   "outputs": [],
   "source": [
    "import pandas as pd\n",
    "import seaborn as sns\n",
    "import tensorflow as tf\n",
    "import tensorflow_hub as hub\n",
    "\n",
    "# model building\n",
    "from keras.models import Sequential\n",
    "from keras.layers import Dense\n",
    "from keras.layers import Dropout\n",
    "\n",
    "# split data into train and test set\n",
    "from sklearn.model_selection import train_test_split\n",
    "\n",
    "# plot lib\n",
    "import matplotlib.pyplot as plt\n",
    "\n",
    "# score handling\n",
    "from sklearn.metrics import confusion_matrix, accuracy_score\n",
    "\n",
    "import warnings\n",
    "warnings.filterwarnings(\"ignore\")"
   ]
  },
  {
   "cell_type": "code",
   "execution_count": 2,
   "metadata": {},
   "outputs": [],
   "source": [
    "df = pd.read_csv('src/spam.csv', encoding = \"ISO-8859-1\")"
   ]
  },
  {
   "cell_type": "code",
   "execution_count": 3,
   "metadata": {},
   "outputs": [
    {
     "data": {
      "text/html": [
       "<div>\n",
       "<style scoped>\n",
       "    .dataframe tbody tr th:only-of-type {\n",
       "        vertical-align: middle;\n",
       "    }\n",
       "\n",
       "    .dataframe tbody tr th {\n",
       "        vertical-align: top;\n",
       "    }\n",
       "\n",
       "    .dataframe thead th {\n",
       "        text-align: right;\n",
       "    }\n",
       "</style>\n",
       "<table border=\"1\" class=\"dataframe\">\n",
       "  <thead>\n",
       "    <tr style=\"text-align: right;\">\n",
       "      <th></th>\n",
       "      <th>v1</th>\n",
       "      <th>v2</th>\n",
       "      <th>Unnamed: 2</th>\n",
       "      <th>Unnamed: 3</th>\n",
       "      <th>Unnamed: 4</th>\n",
       "    </tr>\n",
       "  </thead>\n",
       "  <tbody>\n",
       "    <tr>\n",
       "      <th>0</th>\n",
       "      <td>ham</td>\n",
       "      <td>Go until jurong point, crazy.. Available only ...</td>\n",
       "      <td>NaN</td>\n",
       "      <td>NaN</td>\n",
       "      <td>NaN</td>\n",
       "    </tr>\n",
       "    <tr>\n",
       "      <th>1</th>\n",
       "      <td>ham</td>\n",
       "      <td>Ok lar... Joking wif u oni...</td>\n",
       "      <td>NaN</td>\n",
       "      <td>NaN</td>\n",
       "      <td>NaN</td>\n",
       "    </tr>\n",
       "    <tr>\n",
       "      <th>2</th>\n",
       "      <td>spam</td>\n",
       "      <td>Free entry in 2 a wkly comp to win FA Cup fina...</td>\n",
       "      <td>NaN</td>\n",
       "      <td>NaN</td>\n",
       "      <td>NaN</td>\n",
       "    </tr>\n",
       "    <tr>\n",
       "      <th>3</th>\n",
       "      <td>ham</td>\n",
       "      <td>U dun say so early hor... U c already then say...</td>\n",
       "      <td>NaN</td>\n",
       "      <td>NaN</td>\n",
       "      <td>NaN</td>\n",
       "    </tr>\n",
       "    <tr>\n",
       "      <th>4</th>\n",
       "      <td>ham</td>\n",
       "      <td>Nah I don't think he goes to usf, he lives aro...</td>\n",
       "      <td>NaN</td>\n",
       "      <td>NaN</td>\n",
       "      <td>NaN</td>\n",
       "    </tr>\n",
       "  </tbody>\n",
       "</table>\n",
       "</div>"
      ],
      "text/plain": [
       "     v1                                                 v2 Unnamed: 2  \\\n",
       "0   ham  Go until jurong point, crazy.. Available only ...        NaN   \n",
       "1   ham                      Ok lar... Joking wif u oni...        NaN   \n",
       "2  spam  Free entry in 2 a wkly comp to win FA Cup fina...        NaN   \n",
       "3   ham  U dun say so early hor... U c already then say...        NaN   \n",
       "4   ham  Nah I don't think he goes to usf, he lives aro...        NaN   \n",
       "\n",
       "  Unnamed: 3 Unnamed: 4  \n",
       "0        NaN        NaN  \n",
       "1        NaN        NaN  \n",
       "2        NaN        NaN  \n",
       "3        NaN        NaN  \n",
       "4        NaN        NaN  "
      ]
     },
     "execution_count": 3,
     "metadata": {},
     "output_type": "execute_result"
    }
   ],
   "source": [
    "df.head()"
   ]
  },
  {
   "cell_type": "code",
   "execution_count": 4,
   "metadata": {},
   "outputs": [
    {
     "data": {
      "text/html": [
       "<div>\n",
       "<style scoped>\n",
       "    .dataframe tbody tr th:only-of-type {\n",
       "        vertical-align: middle;\n",
       "    }\n",
       "\n",
       "    .dataframe tbody tr th {\n",
       "        vertical-align: top;\n",
       "    }\n",
       "\n",
       "    .dataframe thead th {\n",
       "        text-align: right;\n",
       "    }\n",
       "</style>\n",
       "<table border=\"1\" class=\"dataframe\">\n",
       "  <thead>\n",
       "    <tr style=\"text-align: right;\">\n",
       "      <th></th>\n",
       "      <th>label</th>\n",
       "      <th>sms_content</th>\n",
       "    </tr>\n",
       "  </thead>\n",
       "  <tbody>\n",
       "    <tr>\n",
       "      <th>0</th>\n",
       "      <td>0</td>\n",
       "      <td>Go until jurong point, crazy.. Available only ...</td>\n",
       "    </tr>\n",
       "    <tr>\n",
       "      <th>1</th>\n",
       "      <td>0</td>\n",
       "      <td>Ok lar... Joking wif u oni...</td>\n",
       "    </tr>\n",
       "    <tr>\n",
       "      <th>2</th>\n",
       "      <td>1</td>\n",
       "      <td>Free entry in 2 a wkly comp to win FA Cup fina...</td>\n",
       "    </tr>\n",
       "    <tr>\n",
       "      <th>3</th>\n",
       "      <td>0</td>\n",
       "      <td>U dun say so early hor... U c already then say...</td>\n",
       "    </tr>\n",
       "    <tr>\n",
       "      <th>4</th>\n",
       "      <td>0</td>\n",
       "      <td>Nah I don't think he goes to usf, he lives aro...</td>\n",
       "    </tr>\n",
       "  </tbody>\n",
       "</table>\n",
       "</div>"
      ],
      "text/plain": [
       "   label                                        sms_content\n",
       "0      0  Go until jurong point, crazy.. Available only ...\n",
       "1      0                      Ok lar... Joking wif u oni...\n",
       "2      1  Free entry in 2 a wkly comp to win FA Cup fina...\n",
       "3      0  U dun say so early hor... U c already then say...\n",
       "4      0  Nah I don't think he goes to usf, he lives aro..."
      ]
     },
     "execution_count": 4,
     "metadata": {},
     "output_type": "execute_result"
    }
   ],
   "source": [
    "# With 0.99 percent of missing values, I will remove these 3 columns :\n",
    "df.drop(columns=[\"Unnamed: 2\", \"Unnamed: 3\", \"Unnamed: 4\"], inplace=True)\n",
    "\n",
    "# I will rename our main columns with relevant names \n",
    "# I will replace the labels by 0(ham) and 1(spam)\n",
    "df = df.rename(columns={\"v1\":\"label\", \"v2\":\"sms_content\"})\n",
    "df['label'] = df['label'].map( {'spam': 1, 'ham': 0} )\n",
    "df.head()"
   ]
  },
  {
   "cell_type": "code",
   "execution_count": 5,
   "metadata": {},
   "outputs": [],
   "source": [
    "X = df['sms_content']\n",
    "y = df['label']"
   ]
  },
  {
   "cell_type": "code",
   "execution_count": 6,
   "metadata": {},
   "outputs": [],
   "source": [
    "# Train Test Split\n",
    "xtrain, xval, ytrain, yval = train_test_split(X,y, test_size=0.15)"
   ]
  },
  {
   "cell_type": "code",
   "execution_count": 7,
   "metadata": {},
   "outputs": [],
   "source": [
    "# Batch\n",
    "train = tf.data.Dataset.from_tensor_slices((xtrain, ytrain))\n",
    "val = tf.data.Dataset.from_tensor_slices((xval, yval))"
   ]
  },
  {
   "cell_type": "code",
   "execution_count": 8,
   "metadata": {},
   "outputs": [
    {
     "data": {
      "text/plain": [
       "<tf.Tensor: shape=(10,), dtype=string, numpy=\n",
       "array([b'Japanese Proverb: If one Can do it, U too Can do it, If none Can do it,U must do it Indian version: If one Can do it, LET HIM DO it.. If none Can do it,LEAVE it!! And finally Kerala version: If one can do it, Stop him doing it.. If none can do it, Make a strike against it ...',\n",
       "       b'FreeMSG You have been awarded a FREE mini DIGITAL CAMERA, just reply SNAP to collect your prize! (quizclub Opt out? Stop 80122300p/wk SP:RWM Ph:08704050406)',\n",
       "       b' what number do u live at? Is it 11?',\n",
       "       b'Me hungry buy some food good lei... But mum n yun dun wan juz buy a little bit... ',\n",
       "       b'IMPORTANT MESSAGE. This is a final contact attempt. You have important messages waiting out our customer claims dept. Expires 13/4/04. Call 08717507382 NOW!',\n",
       "       b'Kind of. Took it to garage. Centre part of exhaust needs replacing. Part ordered n taking it to be fixed tomo morning.',\n",
       "       b'Cuz ibored. And don wanna study',\n",
       "       b\"Our Prashanthettan's mother passed away last night. pray for her and family.\",\n",
       "       b'True lov n care wil nevr go unrecognized. though somone often makes mistakes when valuing it. but they will definitly undrstnd once when they start missing it.',\n",
       "       b'Ok lor...'], dtype=object)>"
      ]
     },
     "execution_count": 8,
     "metadata": {},
     "output_type": "execute_result"
    }
   ],
   "source": [
    "train_examples_batch, train_labels_batch = next(iter(train.batch(10)))\n",
    "train_examples_batch"
   ]
  },
  {
   "cell_type": "code",
   "execution_count": 9,
   "metadata": {},
   "outputs": [
    {
     "data": {
      "text/plain": [
       "<tf.Tensor: shape=(10,), dtype=int64, numpy=array([0, 1, 0, 0, 1, 0, 0, 0, 0, 0], dtype=int64)>"
      ]
     },
     "execution_count": 9,
     "metadata": {},
     "output_type": "execute_result"
    }
   ],
   "source": [
    "train_labels_batch"
   ]
  },
  {
   "attachments": {},
   "cell_type": "markdown",
   "metadata": {},
   "source": [
    "### I will use the **pretrained embedding model** : google/nnlm-en-dim50/2 :\n",
    "- *source Tensorflow Hub     : https://tfhub.dev/google/nnlm-en-dim50/2*\n",
    "- *Text embedding with pre-built OOV. Maps from text to 50-dimensional embedding vectors*\n",
    "- *The module preprocesses its input by splitting on spaces*\n",
    "- *Small fraction of the least frequent tokens and embeddings (~2.5%) are replaced by hash buckets*\n",
    "- *Word embeddings are combined into sentence embedding using the **sqrtn** combiner*\n",
    "\n",
    "##### Additional informations :\n",
    "- *source Tensorflow tutorials : https://www.tensorflow.org/tutorials/keras/text_classification_with_hub*\n",
    "- *Benefit from **transfer learning***\n",
    "- *Text preprocessing not necessary*"
   ]
  },
  {
   "cell_type": "code",
   "execution_count": 10,
   "metadata": {},
   "outputs": [
    {
     "name": "stdout",
     "output_type": "stream",
     "text": [
      "WARNING:tensorflow:Please fix your imports. Module tensorflow.python.training.tracking.data_structures has been moved to tensorflow.python.trackable.data_structures. The old module will be deleted in version 2.11.\n"
     ]
    }
   ],
   "source": [
    "# Downloading pre trained model\n",
    "\n",
    "embedding = \"https://tfhub.dev/google/nnlm-en-dim50/2\"                      # --> Run well \n",
    "#embedding = \"https://tfhub.dev/google/nnlm-en-dim128/2\"                    Time computing is a little bit long and overfit\n",
    "#embedding = \"https://tfhub.dev/google/nnlm-en-dim128-with-normalization/2\" Time computing is too long\n",
    "hub_layer = hub.KerasLayer(embedding, input_shape=[], \n",
    "                           dtype=tf.string, trainable=True)\n"
   ]
  },
  {
   "cell_type": "markdown",
   "metadata": {},
   "source": [
    "### Building our model"
   ]
  },
  {
   "cell_type": "code",
   "execution_count": 11,
   "metadata": {},
   "outputs": [
    {
     "name": "stdout",
     "output_type": "stream",
     "text": [
      "Model: \"sequential\"\n",
      "_________________________________________________________________\n",
      " Layer (type)                Output Shape              Param #   \n",
      "=================================================================\n",
      " keras_layer (KerasLayer)    (None, 50)                48190600  \n",
      "                                                                 \n",
      " dense (Dense)               (None, 32)                1632      \n",
      "                                                                 \n",
      " dropout (Dropout)           (None, 32)                0         \n",
      "                                                                 \n",
      " dense_1 (Dense)             (None, 16)                528       \n",
      "                                                                 \n",
      " dense_2 (Dense)             (None, 1)                 17        \n",
      "                                                                 \n",
      "=================================================================\n",
      "Total params: 48,192,777\n",
      "Trainable params: 48,192,777\n",
      "Non-trainable params: 0\n",
      "_________________________________________________________________\n"
     ]
    }
   ],
   "source": [
    "\n",
    "from keras.layers import LSTM\n",
    "# RNN seems to be integrated in Hub layer\n",
    "# Moreover, Hub layer output is not sequential\n",
    "# In this context, I will use Dense layers.\n",
    "\n",
    "model = tf.keras.Sequential()\n",
    "model.add(hub_layer)\n",
    "model.add(tf.keras.layers.Dense(32, activation='relu'))\n",
    "model.add(Dropout(0.2))\n",
    "model.add(tf.keras.layers.Dense(16, activation='relu'))\n",
    "model.add(tf.keras.layers.Dense(1, activation='sigmoid'))\n",
    "\n",
    "model.summary()\n"
   ]
  },
  {
   "cell_type": "code",
   "execution_count": 12,
   "metadata": {},
   "outputs": [],
   "source": [
    "model.compile(optimizer='adam',\n",
    "              loss=tf.keras.losses.BinaryCrossentropy(from_logits=True),\n",
    "              metrics=['accuracy'])\n"
   ]
  },
  {
   "cell_type": "code",
   "execution_count": 13,
   "metadata": {},
   "outputs": [
    {
     "name": "stdout",
     "output_type": "stream",
     "text": [
      "Epoch 1/30\n",
      "10/10 [==============================] - 11s 999ms/step - loss: 0.6606 - accuracy: 0.7876 - val_loss: 0.6329 - val_accuracy: 0.8493\n",
      "Epoch 2/30\n",
      "10/10 [==============================] - 10s 988ms/step - loss: 0.5999 - accuracy: 0.8765 - val_loss: 0.5670 - val_accuracy: 0.8541\n",
      "Epoch 3/30\n",
      "10/10 [==============================] - 10s 985ms/step - loss: 0.5221 - accuracy: 0.8750 - val_loss: 0.4839 - val_accuracy: 0.8529\n",
      "Epoch 4/30\n",
      "10/10 [==============================] - 10s 1s/step - loss: 0.4271 - accuracy: 0.8729 - val_loss: 0.3891 - val_accuracy: 0.8541\n",
      "Epoch 5/30\n",
      "10/10 [==============================] - 11s 1s/step - loss: 0.3292 - accuracy: 0.8771 - val_loss: 0.3083 - val_accuracy: 0.8660\n",
      "Epoch 6/30\n",
      "10/10 [==============================] - 11s 1s/step - loss: 0.2505 - accuracy: 0.9012 - val_loss: 0.2456 - val_accuracy: 0.9019\n",
      "Epoch 7/30\n",
      "10/10 [==============================] - 11s 1s/step - loss: 0.1901 - accuracy: 0.9419 - val_loss: 0.1902 - val_accuracy: 0.9390\n",
      "Epoch 8/30\n",
      "10/10 [==============================] - 10s 1s/step - loss: 0.1404 - accuracy: 0.9671 - val_loss: 0.1474 - val_accuracy: 0.9629\n",
      "Epoch 9/30\n",
      "10/10 [==============================] - 10s 1s/step - loss: 0.1045 - accuracy: 0.9808 - val_loss: 0.1184 - val_accuracy: 0.9761\n",
      "Epoch 10/30\n",
      "10/10 [==============================] - 10s 1s/step - loss: 0.0771 - accuracy: 0.9888 - val_loss: 0.0985 - val_accuracy: 0.9785\n",
      "Epoch 11/30\n",
      "10/10 [==============================] - 10s 1000ms/step - loss: 0.0581 - accuracy: 0.9899 - val_loss: 0.0869 - val_accuracy: 0.9797\n",
      "Epoch 12/30\n",
      "10/10 [==============================] - 10s 1s/step - loss: 0.0438 - accuracy: 0.9928 - val_loss: 0.0798 - val_accuracy: 0.9773\n",
      "Epoch 13/30\n",
      "10/10 [==============================] - 10s 1s/step - loss: 0.0342 - accuracy: 0.9949 - val_loss: 0.0745 - val_accuracy: 0.9785\n",
      "Epoch 14/30\n",
      "10/10 [==============================] - 10s 1s/step - loss: 0.0275 - accuracy: 0.9956 - val_loss: 0.0708 - val_accuracy: 0.9785\n",
      "Epoch 15/30\n",
      "10/10 [==============================] - 11s 1s/step - loss: 0.0214 - accuracy: 0.9970 - val_loss: 0.0686 - val_accuracy: 0.9785\n",
      "Epoch 16/30\n",
      "10/10 [==============================] - 10s 1s/step - loss: 0.0167 - accuracy: 0.9973 - val_loss: 0.0679 - val_accuracy: 0.9797\n",
      "Epoch 17/30\n",
      "10/10 [==============================] - 10s 1s/step - loss: 0.0133 - accuracy: 0.9985 - val_loss: 0.0675 - val_accuracy: 0.9797\n",
      "Epoch 18/30\n",
      "10/10 [==============================] - 12s 1s/step - loss: 0.0108 - accuracy: 0.9994 - val_loss: 0.0668 - val_accuracy: 0.9809\n",
      "Epoch 19/30\n",
      "10/10 [==============================] - 12s 1s/step - loss: 0.0095 - accuracy: 0.9992 - val_loss: 0.0671 - val_accuracy: 0.9809\n",
      "Epoch 20/30\n",
      "10/10 [==============================] - 11s 1s/step - loss: 0.0074 - accuracy: 0.9996 - val_loss: 0.0681 - val_accuracy: 0.9797\n",
      "Epoch 21/30\n",
      "10/10 [==============================] - 10s 1s/step - loss: 0.0060 - accuracy: 0.9992 - val_loss: 0.0690 - val_accuracy: 0.9797\n",
      "Epoch 22/30\n",
      "10/10 [==============================] - 11s 1s/step - loss: 0.0056 - accuracy: 0.9996 - val_loss: 0.0697 - val_accuracy: 0.9797\n",
      "Epoch 23/30\n",
      "10/10 [==============================] - 11s 1s/step - loss: 0.0049 - accuracy: 0.9992 - val_loss: 0.0702 - val_accuracy: 0.9797\n",
      "Epoch 24/30\n",
      "10/10 [==============================] - 10s 998ms/step - loss: 0.0036 - accuracy: 0.9998 - val_loss: 0.0700 - val_accuracy: 0.9797\n",
      "Epoch 25/30\n",
      "10/10 [==============================] - 11s 1s/step - loss: 0.0031 - accuracy: 1.0000 - val_loss: 0.0707 - val_accuracy: 0.9797\n",
      "Epoch 26/30\n",
      "10/10 [==============================] - 10s 1s/step - loss: 0.0039 - accuracy: 0.9996 - val_loss: 0.0711 - val_accuracy: 0.9785\n",
      "Epoch 27/30\n",
      "10/10 [==============================] - 10s 970ms/step - loss: 0.0026 - accuracy: 1.0000 - val_loss: 0.0717 - val_accuracy: 0.9797\n",
      "Epoch 28/30\n",
      "10/10 [==============================] - 10s 965ms/step - loss: 0.0023 - accuracy: 0.9998 - val_loss: 0.0722 - val_accuracy: 0.9797\n",
      "Epoch 29/30\n",
      "10/10 [==============================] - 10s 991ms/step - loss: 0.0018 - accuracy: 1.0000 - val_loss: 0.0736 - val_accuracy: 0.9797\n",
      "Epoch 30/30\n",
      "10/10 [==============================] - 11s 1s/step - loss: 0.0015 - accuracy: 1.0000 - val_loss: 0.0754 - val_accuracy: 0.9797\n"
     ]
    }
   ],
   "source": [
    "history = model.fit(train.shuffle(10000).batch(512),\n",
    "                    epochs=20,\n",
    "                    validation_data=val.batch(512),\n",
    "                    verbose=1)\n"
   ]
  },
  {
   "cell_type": "markdown",
   "metadata": {},
   "source": [
    "### Model results and evaluation"
   ]
  },
  {
   "cell_type": "code",
   "execution_count": 14,
   "metadata": {},
   "outputs": [
    {
     "name": "stdout",
     "output_type": "stream",
     "text": [
      "2/2 - 0s - loss: 0.0754 - accuracy: 0.9797 - 221ms/epoch - 111ms/step\n",
      "loss: 0.075\n",
      "accuracy: 0.980\n"
     ]
    }
   ],
   "source": [
    "results = model.evaluate(val.batch(512), verbose=2)\n",
    "\n",
    "for name, value in zip(model.metrics_names, results):\n",
    "  print(\"%s: %.3f\" % (name, value))\n"
   ]
  },
  {
   "cell_type": "code",
   "execution_count": 15,
   "metadata": {},
   "outputs": [
    {
     "name": "stdout",
     "output_type": "stream",
     "text": [
      "148/148 [==============================] - 18s 120ms/step\n",
      "27/27 [==============================] - 3s 115ms/step\n"
     ]
    }
   ],
   "source": [
    "ypred_train = (model.predict(xtrain) > 0.5).astype(\"int32\")\n",
    "ypred_val = (model.predict(xval) > 0.5).astype(\"int32\")"
   ]
  },
  {
   "cell_type": "code",
   "execution_count": 16,
   "metadata": {},
   "outputs": [
    {
     "name": "stdout",
     "output_type": "stream",
     "text": [
      "accuracy score on train set : 1.0\n",
      "accuracy score on validation set : 0.9796650717703349\n"
     ]
    }
   ],
   "source": [
    "print(f\"accuracy score on train set : {accuracy_score(ytrain, ypred_train)}\")\n",
    "print(f\"accuracy score on validation set : {accuracy_score(yval, ypred_val)}\")"
   ]
  },
  {
   "cell_type": "code",
   "execution_count": 17,
   "metadata": {},
   "outputs": [
    {
     "data": {
      "image/png": "[encoded data removed]",
      "text/plain": [
       "<Figure size 432x288 with 2 Axes>"
      ]
     },
     "metadata": {
      "needs_background": "light"
     },
     "output_type": "display_data"
    }
   ],
   "source": [
    "mtx = confusion_matrix(ytrain, ypred_train)\n",
    "sns.heatmap(mtx, annot=True, fmt='d', linewidths=.8)\n",
    "plt.ylabel('True label')\n",
    "plt.xlabel('Predicted label')\n",
    "plt.title('Result on Train set')\n",
    "plt.show()\n"
   ]
  },
  {
   "cell_type": "code",
   "execution_count": 18,
   "metadata": {},
   "outputs": [
    {
     "data": {
      "image/png": "[encoded data removed]",
      "text/plain": [
       "<Figure size 432x288 with 2 Axes>"
      ]
     },
     "metadata": {
      "needs_background": "light"
     },
     "output_type": "display_data"
    }
   ],
   "source": [
    "mtx = confusion_matrix(yval, ypred_val)\n",
    "sns.heatmap(mtx, annot=True, fmt='d', linewidths=.8)\n",
    "plt.ylabel('True label')\n",
    "plt.xlabel('Predicted label')\n",
    "plt.title('Result on Validation set')\n",
    "plt.show()"
   ]
  },
  {
   "cell_type": "markdown",
   "metadata": {},
   "source": [
    "#### Take a look at the **history** recorded by our model, convergence sounds good."
   ]
  },
  {
   "cell_type": "code",
   "execution_count": 19,
   "metadata": {},
   "outputs": [
    {
     "data": {
      "image/png": "[encoded data removed]",
      "text/plain": [
       "<Figure size 432x288 with 1 Axes>"
      ]
     },
     "metadata": {
      "needs_background": "light"
     },
     "output_type": "display_data"
    }
   ],
   "source": [
    "# Visualization of the training process on the loss function \n",
    "plt.plot(history.history[\"loss\"], color=\"b\", label='loss')\n",
    "plt.plot(history.history[\"val_loss\"], color=\"r\", label='val_loss')\n",
    "plt.ylabel(\"loss\")\n",
    "plt.xlabel(\"Epochs\")\n",
    "plt.legend(loc=\"upper right\")\n",
    "plt.show()\n"
   ]
  },
  {
   "cell_type": "code",
   "execution_count": 20,
   "metadata": {},
   "outputs": [
    {
     "data": {
      "image/png": "[encoded data removed]",
      "text/plain": [
       "<Figure size 432x288 with 1 Axes>"
      ]
     },
     "metadata": {
      "needs_background": "light"
     },
     "output_type": "display_data"
    }
   ],
   "source": [
    "# Visualization of accuracy training \n",
    "plt.plot(history.history[\"accuracy\"], color=\"b\", label='accuracy')\n",
    "plt.plot(history.history[\"val_accuracy\"], color=\"r\", label='val_accuracy')\n",
    "plt.ylabel(\"accuracy\")\n",
    "plt.xlabel(\"Epochs\")\n",
    "plt.legend(loc=\"right\")\n",
    "plt.show()"
   ]
  },
  {
   "cell_type": "markdown",
   "metadata": {},
   "source": [
    "### Optionnal : Saving model and history"
   ]
  },
  {
   "cell_type": "code",
   "execution_count": 21,
   "metadata": {},
   "outputs": [],
   "source": [
    "# model.save(\"model_embedding_pretrained.h5\")"
   ]
  },
  {
   "cell_type": "code",
   "execution_count": 22,
   "metadata": {},
   "outputs": [],
   "source": [
    "# import json\n",
    "# json.dump(model.history.history, open(\"embedding_pretrained_history.json\", 'w'))"
   ]
  },
  {
   "attachments": {},
   "cell_type": "markdown",
   "metadata": {},
   "source": [
    "### Conclusion :\n",
    "- This model allow us to avoid text cleaning and more, it perform very well\n",
    "- Even if the time computing is quite long, it seems to be a very good solution\n",
    "- It was Difficult to test google/universal-sentence-encoder/4 on my own PC due to the time computing very important\n",
    "- I tried https://tfhub.dev/google/nnlm-en-dim128-with-normalization/2 : very interesting, the results were very good with a drawback: overfitting to handle"
   ]
  }
 ],
 "metadata": {
  "kernelspec": {
   "display_name": "Python 3.9.3 64-bit",
   "language": "python",
   "name": "python3"
  },
  "language_info": {
   "codemirror_mode": {
    "name": "ipython",
    "version": 3
   },
   "file_extension": ".py",
   "mimetype": "text/x-python",
   "name": "python",
   "nbconvert_exporter": "python",
   "pygments_lexer": "ipython3",
   "version": "3.9.3"
  },
  "orig_nbformat": 4,
  "vscode": {
   "interpreter": {
    "hash": "5a1ee337b682cd95343797d80150fd2bd6ab72b1f35807bec9bb1f0b7fb0c443"
   }
  }
 },
 "nbformat": 4,
 "nbformat_minor": 2
}

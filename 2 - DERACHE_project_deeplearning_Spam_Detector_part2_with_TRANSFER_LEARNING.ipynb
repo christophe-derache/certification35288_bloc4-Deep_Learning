{
 "cells": [
  {
   "cell_type": "markdown",
   "metadata": {},
   "source": [
    "# Project : AT&T Spam Detector 2/2\n",
    "## Using a pretrained embedding model *(transfer learning)*"
   ]
  },
  {
   "cell_type": "code",
   "execution_count": 1,
   "metadata": {},
   "outputs": [],
   "source": [
    "import pandas as pd\n",
    "import seaborn as sns\n",
    "import tensorflow as tf\n",
    "import tensorflow_hub as hub\n",
    "\n",
    "# model building\n",
    "from keras.models import Sequential\n",
    "from keras.layers import Dense\n",
    "from keras.layers import Dropout\n",
    "\n",
    "# split data into train and test set\n",
    "from sklearn.model_selection import train_test_split\n",
    "\n",
    "# plot lib\n",
    "import matplotlib.pyplot as plt\n",
    "\n",
    "# score handling\n",
    "from sklearn.metrics import confusion_matrix, accuracy_score\n",
    "\n",
    "import warnings\n",
    "warnings.filterwarnings(\"ignore\")"
   ]
  },
  {
   "cell_type": "code",
   "execution_count": 2,
   "metadata": {},
   "outputs": [],
   "source": [
    "df = pd.read_csv('src/spam.csv', encoding = \"ISO-8859-1\")"
   ]
  },
  {
   "cell_type": "code",
   "execution_count": 3,
   "metadata": {},
   "outputs": [
    {
     "data": {
      "text/html": [
       "<div>\n",
       "<style scoped>\n",
       "    .dataframe tbody tr th:only-of-type {\n",
       "        vertical-align: middle;\n",
       "    }\n",
       "\n",
       "    .dataframe tbody tr th {\n",
       "        vertical-align: top;\n",
       "    }\n",
       "\n",
       "    .dataframe thead th {\n",
       "        text-align: right;\n",
       "    }\n",
       "</style>\n",
       "<table border=\"1\" class=\"dataframe\">\n",
       "  <thead>\n",
       "    <tr style=\"text-align: right;\">\n",
       "      <th></th>\n",
       "      <th>v1</th>\n",
       "      <th>v2</th>\n",
       "      <th>Unnamed: 2</th>\n",
       "      <th>Unnamed: 3</th>\n",
       "      <th>Unnamed: 4</th>\n",
       "    </tr>\n",
       "  </thead>\n",
       "  <tbody>\n",
       "    <tr>\n",
       "      <th>0</th>\n",
       "      <td>ham</td>\n",
       "      <td>Go until jurong point, crazy.. Available only ...</td>\n",
       "      <td>NaN</td>\n",
       "      <td>NaN</td>\n",
       "      <td>NaN</td>\n",
       "    </tr>\n",
       "    <tr>\n",
       "      <th>1</th>\n",
       "      <td>ham</td>\n",
       "      <td>Ok lar... Joking wif u oni...</td>\n",
       "      <td>NaN</td>\n",
       "      <td>NaN</td>\n",
       "      <td>NaN</td>\n",
       "    </tr>\n",
       "    <tr>\n",
       "      <th>2</th>\n",
       "      <td>spam</td>\n",
       "      <td>Free entry in 2 a wkly comp to win FA Cup fina...</td>\n",
       "      <td>NaN</td>\n",
       "      <td>NaN</td>\n",
       "      <td>NaN</td>\n",
       "    </tr>\n",
       "    <tr>\n",
       "      <th>3</th>\n",
       "      <td>ham</td>\n",
       "      <td>U dun say so early hor... U c already then say...</td>\n",
       "      <td>NaN</td>\n",
       "      <td>NaN</td>\n",
       "      <td>NaN</td>\n",
       "    </tr>\n",
       "    <tr>\n",
       "      <th>4</th>\n",
       "      <td>ham</td>\n",
       "      <td>Nah I don't think he goes to usf, he lives aro...</td>\n",
       "      <td>NaN</td>\n",
       "      <td>NaN</td>\n",
       "      <td>NaN</td>\n",
       "    </tr>\n",
       "  </tbody>\n",
       "</table>\n",
       "</div>"
      ],
      "text/plain": [
       "     v1                                                 v2 Unnamed: 2  \\\n",
       "0   ham  Go until jurong point, crazy.. Available only ...        NaN   \n",
       "1   ham                      Ok lar... Joking wif u oni...        NaN   \n",
       "2  spam  Free entry in 2 a wkly comp to win FA Cup fina...        NaN   \n",
       "3   ham  U dun say so early hor... U c already then say...        NaN   \n",
       "4   ham  Nah I don't think he goes to usf, he lives aro...        NaN   \n",
       "\n",
       "  Unnamed: 3 Unnamed: 4  \n",
       "0        NaN        NaN  \n",
       "1        NaN        NaN  \n",
       "2        NaN        NaN  \n",
       "3        NaN        NaN  \n",
       "4        NaN        NaN  "
      ]
     },
     "execution_count": 3,
     "metadata": {},
     "output_type": "execute_result"
    }
   ],
   "source": [
    "df.head()"
   ]
  },
  {
   "cell_type": "code",
   "execution_count": 4,
   "metadata": {},
   "outputs": [
    {
     "data": {
      "text/html": [
       "<div>\n",
       "<style scoped>\n",
       "    .dataframe tbody tr th:only-of-type {\n",
       "        vertical-align: middle;\n",
       "    }\n",
       "\n",
       "    .dataframe tbody tr th {\n",
       "        vertical-align: top;\n",
       "    }\n",
       "\n",
       "    .dataframe thead th {\n",
       "        text-align: right;\n",
       "    }\n",
       "</style>\n",
       "<table border=\"1\" class=\"dataframe\">\n",
       "  <thead>\n",
       "    <tr style=\"text-align: right;\">\n",
       "      <th></th>\n",
       "      <th>label</th>\n",
       "      <th>sms_content</th>\n",
       "    </tr>\n",
       "  </thead>\n",
       "  <tbody>\n",
       "    <tr>\n",
       "      <th>0</th>\n",
       "      <td>0</td>\n",
       "      <td>Go until jurong point, crazy.. Available only ...</td>\n",
       "    </tr>\n",
       "    <tr>\n",
       "      <th>1</th>\n",
       "      <td>0</td>\n",
       "      <td>Ok lar... Joking wif u oni...</td>\n",
       "    </tr>\n",
       "    <tr>\n",
       "      <th>2</th>\n",
       "      <td>1</td>\n",
       "      <td>Free entry in 2 a wkly comp to win FA Cup fina...</td>\n",
       "    </tr>\n",
       "    <tr>\n",
       "      <th>3</th>\n",
       "      <td>0</td>\n",
       "      <td>U dun say so early hor... U c already then say...</td>\n",
       "    </tr>\n",
       "    <tr>\n",
       "      <th>4</th>\n",
       "      <td>0</td>\n",
       "      <td>Nah I don't think he goes to usf, he lives aro...</td>\n",
       "    </tr>\n",
       "  </tbody>\n",
       "</table>\n",
       "</div>"
      ],
      "text/plain": [
       "   label                                        sms_content\n",
       "0      0  Go until jurong point, crazy.. Available only ...\n",
       "1      0                      Ok lar... Joking wif u oni...\n",
       "2      1  Free entry in 2 a wkly comp to win FA Cup fina...\n",
       "3      0  U dun say so early hor... U c already then say...\n",
       "4      0  Nah I don't think he goes to usf, he lives aro..."
      ]
     },
     "execution_count": 4,
     "metadata": {},
     "output_type": "execute_result"
    }
   ],
   "source": [
    "# With 0.99 percent of missing values, I will remove these 3 columns :\n",
    "df.drop(columns=[\"Unnamed: 2\", \"Unnamed: 3\", \"Unnamed: 4\"], inplace=True)\n",
    "\n",
    "# I will rename main columns with relevant names \n",
    "# I will replace the labels by 0(ham) and 1(spam)\n",
    "df = df.rename(columns={\"v1\":\"label\", \"v2\":\"sms_content\"})\n",
    "df['label'] = df['label'].map( {'spam': 1, 'ham': 0} )\n",
    "df.head()"
   ]
  },
  {
   "cell_type": "code",
   "execution_count": 5,
   "metadata": {},
   "outputs": [],
   "source": [
    "X = df['sms_content']\n",
    "y = df['label']"
   ]
  },
  {
   "cell_type": "code",
   "execution_count": 6,
   "metadata": {},
   "outputs": [],
   "source": [
    "# Train Test Split\n",
    "xtrain, xval, ytrain, yval = train_test_split(X,y, test_size=0.15)"
   ]
  },
  {
   "cell_type": "code",
   "execution_count": 7,
   "metadata": {},
   "outputs": [],
   "source": [
    "# Batch\n",
    "train = tf.data.Dataset.from_tensor_slices((xtrain, ytrain))\n",
    "val = tf.data.Dataset.from_tensor_slices((xval, yval))"
   ]
  },
  {
   "cell_type": "code",
   "execution_count": 23,
   "metadata": {},
   "outputs": [
    {
     "data": {
      "text/plain": [
       "<tf.Tensor: shape=(5,), dtype=string, numpy=\n",
       "array([b'Thanks for your Ringtone Order, Reference T91. You will be charged GBP 4 per week. You can unsubscribe at anytime by calling customer services on 09057039994',\n",
       "       b'A Boy loved a gal. He propsd bt she didnt mind. He gv lv lttrs, Bt her frnds threw thm. Again d boy decided 2 aproach d gal , dt time a truck was speeding towards d gal. Wn it was about 2 hit d girl,d boy ran like hell n saved her. She asked \\'hw cn u run so fast?\\' D boy replied \\\\Boost is d secret of my energy\\\\\" n instantly d girl shouted \\\\\"our energy\\\\\" n Thy lived happily 2gthr drinking boost evrydy Moral of d story:- I hv free msgs:D;): gud ni8\"',\n",
       "       b\"I'm tired of arguing with you about this week after week. Do what you want and from now on, i'll do the same.\",\n",
       "       b'Please call our customer service representative on FREEPHONE 0808 145 4742 between 9am-11pm as you have WON a guaranteed \\xc3\\xa5\\xc2\\xa31000 cash or \\xc3\\xa5\\xc2\\xa35000 prize!',\n",
       "       b'URGENT This is our 2nd attempt to contact U. Your \\xc3\\xa5\\xc2\\xa3900 prize from YESTERDAY is still awaiting collection. To claim CALL NOW 09061702893'],\n",
       "      dtype=object)>"
      ]
     },
     "execution_count": 23,
     "metadata": {},
     "output_type": "execute_result"
    }
   ],
   "source": [
    "train_examples_batch, train_labels_batch = next(iter(train.batch(5)))\n",
    "train_examples_batch"
   ]
  },
  {
   "cell_type": "code",
   "execution_count": 24,
   "metadata": {},
   "outputs": [
    {
     "data": {
      "text/plain": [
       "<tf.Tensor: shape=(5,), dtype=int64, numpy=array([1, 0, 0, 1, 1], dtype=int64)>"
      ]
     },
     "execution_count": 24,
     "metadata": {},
     "output_type": "execute_result"
    }
   ],
   "source": [
    "train_labels_batch"
   ]
  },
  {
   "attachments": {},
   "cell_type": "markdown",
   "metadata": {},
   "source": [
    "### I will use the **pretrained embedding model** : google/nnlm-en-dim50/2 :\n",
    "- *source Tensorflow Hub     : https://tfhub.dev/google/nnlm-en-dim50/2*\n",
    "- *Text embedding with pre-built OOV. Maps from text to 50-dimensional embedding vectors*\n",
    "- *The module preprocesses its input by splitting on spaces*\n",
    "- *Small fraction of the least frequent tokens and embeddings (~2.5%) are replaced by hash buckets*\n",
    "- *Word embeddings are combined into sentence embedding using the **sqrtn** combiner*\n",
    "\n",
    "##### Additional informations :\n",
    "- *source Tensorflow tutorials : https://www.tensorflow.org/tutorials/keras/text_classification_with_hub*\n",
    "- *Benefit from **transfer learning***\n",
    "- *Text preprocessing not necessary*"
   ]
  },
  {
   "cell_type": "code",
   "execution_count": 10,
   "metadata": {},
   "outputs": [
    {
     "name": "stdout",
     "output_type": "stream",
     "text": [
      "WARNING:tensorflow:Please fix your imports. Module tensorflow.python.training.tracking.data_structures has been moved to tensorflow.python.trackable.data_structures. The old module will be deleted in version 2.11.\n"
     ]
    }
   ],
   "source": [
    "# Downloading pre trained model\n",
    "\n",
    "embedding = \"https://tfhub.dev/google/nnlm-en-dim50/2\"                      # --> Run well \n",
    "#embedding = \"https://tfhub.dev/google/nnlm-en-dim128/2\"                    Time computing is a little bit long and overfit\n",
    "#embedding = \"https://tfhub.dev/google/nnlm-en-dim128-with-normalization/2\" Time computing is too long\n",
    "hub_layer = hub.KerasLayer(embedding, input_shape=[], \n",
    "                           dtype=tf.string, trainable=True)\n"
   ]
  },
  {
   "attachments": {},
   "cell_type": "markdown",
   "metadata": {},
   "source": [
    "### Building the model "
   ]
  },
  {
   "cell_type": "code",
   "execution_count": 11,
   "metadata": {},
   "outputs": [
    {
     "name": "stdout",
     "output_type": "stream",
     "text": [
      "Model: \"sequential\"\n",
      "_________________________________________________________________\n",
      " Layer (type)                Output Shape              Param #   \n",
      "=================================================================\n",
      " keras_layer (KerasLayer)    (None, 50)                48190600  \n",
      "                                                                 \n",
      " dense (Dense)               (None, 32)                1632      \n",
      "                                                                 \n",
      " dropout (Dropout)           (None, 32)                0         \n",
      "                                                                 \n",
      " dense_1 (Dense)             (None, 16)                528       \n",
      "                                                                 \n",
      " dense_2 (Dense)             (None, 1)                 17        \n",
      "                                                                 \n",
      "=================================================================\n",
      "Total params: 48,192,777\n",
      "Trainable params: 48,192,777\n",
      "Non-trainable params: 0\n",
      "_________________________________________________________________\n"
     ]
    }
   ],
   "source": [
    "\n",
    "from keras.layers import LSTM\n",
    "# RNN seems to be integrated in Hub layer\n",
    "# Moreover, Hub layer output is not sequential\n",
    "# In this context, I will use Dense layers.\n",
    "\n",
    "model = tf.keras.Sequential()\n",
    "model.add(hub_layer)\n",
    "model.add(tf.keras.layers.Dense(32, activation='relu'))\n",
    "model.add(Dropout(0.2))\n",
    "model.add(tf.keras.layers.Dense(16, activation='relu'))\n",
    "model.add(tf.keras.layers.Dense(1, activation='sigmoid'))\n",
    "\n",
    "model.summary()\n"
   ]
  },
  {
   "cell_type": "code",
   "execution_count": 12,
   "metadata": {},
   "outputs": [],
   "source": [
    "model.compile(optimizer='adam',\n",
    "              loss=tf.keras.losses.BinaryCrossentropy(from_logits=True),\n",
    "              metrics=['accuracy'])\n"
   ]
  },
  {
   "cell_type": "code",
   "execution_count": 13,
   "metadata": {},
   "outputs": [
    {
     "name": "stdout",
     "output_type": "stream",
     "text": [
      "Epoch 1/20\n",
      "10/10 [==============================] - 19s 2s/step - loss: 0.6622 - accuracy: 0.6505 - val_loss: 0.5903 - val_accuracy: 0.8696\n",
      "Epoch 2/20\n",
      "10/10 [==============================] - 11s 1s/step - loss: 0.5499 - accuracy: 0.8628 - val_loss: 0.4828 - val_accuracy: 0.8828\n",
      "Epoch 3/20\n",
      "10/10 [==============================] - 10s 1s/step - loss: 0.4471 - accuracy: 0.8723 - val_loss: 0.3891 - val_accuracy: 0.8816\n",
      "Epoch 4/20\n",
      "10/10 [==============================] - 11s 1s/step - loss: 0.3578 - accuracy: 0.8714 - val_loss: 0.3159 - val_accuracy: 0.8852\n",
      "Epoch 5/20\n",
      "10/10 [==============================] - 10s 1s/step - loss: 0.2872 - accuracy: 0.8837 - val_loss: 0.2619 - val_accuracy: 0.8983\n",
      "Epoch 6/20\n",
      "10/10 [==============================] - 10s 973ms/step - loss: 0.2321 - accuracy: 0.9096 - val_loss: 0.2216 - val_accuracy: 0.9246\n",
      "Epoch 7/20\n",
      "10/10 [==============================] - 10s 1s/step - loss: 0.1853 - accuracy: 0.9417 - val_loss: 0.1906 - val_accuracy: 0.9450\n",
      "Epoch 8/20\n",
      "10/10 [==============================] - 10s 1s/step - loss: 0.1492 - accuracy: 0.9664 - val_loss: 0.1645 - val_accuracy: 0.9653\n",
      "Epoch 9/20\n",
      "10/10 [==============================] - 10s 1s/step - loss: 0.1166 - accuracy: 0.9818 - val_loss: 0.1410 - val_accuracy: 0.9677\n",
      "Epoch 10/20\n",
      "10/10 [==============================] - 10s 1s/step - loss: 0.0912 - accuracy: 0.9867 - val_loss: 0.1208 - val_accuracy: 0.9677\n",
      "Epoch 11/20\n",
      "10/10 [==============================] - 10s 992ms/step - loss: 0.0699 - accuracy: 0.9899 - val_loss: 0.1054 - val_accuracy: 0.9713\n",
      "Epoch 12/20\n",
      "10/10 [==============================] - 10s 1s/step - loss: 0.0522 - accuracy: 0.9935 - val_loss: 0.0946 - val_accuracy: 0.9725\n",
      "Epoch 13/20\n",
      "10/10 [==============================] - 10s 1s/step - loss: 0.0404 - accuracy: 0.9947 - val_loss: 0.0882 - val_accuracy: 0.9713\n",
      "Epoch 14/20\n",
      "10/10 [==============================] - 10s 999ms/step - loss: 0.0309 - accuracy: 0.9958 - val_loss: 0.0830 - val_accuracy: 0.9713\n",
      "Epoch 15/20\n",
      "10/10 [==============================] - 11s 1s/step - loss: 0.0247 - accuracy: 0.9958 - val_loss: 0.0802 - val_accuracy: 0.9749\n",
      "Epoch 16/20\n",
      "10/10 [==============================] - 10s 1s/step - loss: 0.0196 - accuracy: 0.9975 - val_loss: 0.0774 - val_accuracy: 0.9761\n",
      "Epoch 17/20\n",
      "10/10 [==============================] - 10s 990ms/step - loss: 0.0149 - accuracy: 0.9977 - val_loss: 0.0775 - val_accuracy: 0.9761\n",
      "Epoch 18/20\n",
      "10/10 [==============================] - 10s 1s/step - loss: 0.0132 - accuracy: 0.9985 - val_loss: 0.0786 - val_accuracy: 0.9761\n",
      "Epoch 19/20\n",
      "10/10 [==============================] - 10s 991ms/step - loss: 0.0106 - accuracy: 0.9985 - val_loss: 0.0794 - val_accuracy: 0.9761\n",
      "Epoch 20/20\n",
      "10/10 [==============================] - 10s 1s/step - loss: 0.0088 - accuracy: 0.9989 - val_loss: 0.0795 - val_accuracy: 0.9761\n"
     ]
    }
   ],
   "source": [
    "history = model.fit(train.shuffle(10000).batch(512),\n",
    "                    epochs=20,\n",
    "                    validation_data=val.batch(512),\n",
    "                    verbose=1)\n"
   ]
  },
  {
   "cell_type": "markdown",
   "metadata": {},
   "source": [
    "### Model results and evaluation"
   ]
  },
  {
   "cell_type": "code",
   "execution_count": 14,
   "metadata": {},
   "outputs": [
    {
     "name": "stdout",
     "output_type": "stream",
     "text": [
      "2/2 - 0s - loss: 0.0795 - accuracy: 0.9761 - 237ms/epoch - 119ms/step\n",
      "loss: 0.079\n",
      "accuracy: 0.976\n"
     ]
    }
   ],
   "source": [
    "results = model.evaluate(val.batch(512), verbose=2)\n",
    "\n",
    "for name, value in zip(model.metrics_names, results):\n",
    "  print(\"%s: %.3f\" % (name, value))\n"
   ]
  },
  {
   "cell_type": "code",
   "execution_count": 15,
   "metadata": {},
   "outputs": [
    {
     "name": "stdout",
     "output_type": "stream",
     "text": [
      "148/148 [==============================] - 19s 123ms/step\n",
      "27/27 [==============================] - 3s 120ms/step\n"
     ]
    }
   ],
   "source": [
    "ypred_train = (model.predict(xtrain) > 0.5).astype(\"int32\")\n",
    "ypred_val = (model.predict(xval) > 0.5).astype(\"int32\")"
   ]
  },
  {
   "cell_type": "code",
   "execution_count": 16,
   "metadata": {},
   "outputs": [
    {
     "name": "stdout",
     "output_type": "stream",
     "text": [
      "accuracy score on train set : 0.9993665540540541\n",
      "accuracy score on validation set : 0.9760765550239234\n"
     ]
    }
   ],
   "source": [
    "print(f\"accuracy score on train set : {accuracy_score(ytrain, ypred_train)}\")\n",
    "print(f\"accuracy score on validation set : {accuracy_score(yval, ypred_val)}\")"
   ]
  },
  {
   "cell_type": "code",
   "execution_count": 17,
   "metadata": {},
   "outputs": [
    {
     "data": {
      "image/png": "[encoded data removed]",
      "text/plain": [
       "<Figure size 432x288 with 2 Axes>"
      ]
     },
     "metadata": {
      "needs_background": "light"
     },
     "output_type": "display_data"
    }
   ],
   "source": [
    "mtx = confusion_matrix(ytrain, ypred_train)\n",
    "sns.heatmap(mtx, annot=True, fmt='d', linewidths=.8)\n",
    "plt.ylabel('True label')\n",
    "plt.xlabel('Predicted label')\n",
    "plt.title('Result on Train set')\n",
    "plt.show()\n"
   ]
  },
  {
   "cell_type": "code",
   "execution_count": 18,
   "metadata": {},
   "outputs": [
    {
     "data": {
      "image/png": "[encoded data removed]",
      "text/plain": [
       "<Figure size 432x288 with 2 Axes>"
      ]
     },
     "metadata": {
      "needs_background": "light"
     },
     "output_type": "display_data"
    }
   ],
   "source": [
    "mtx = confusion_matrix(yval, ypred_val)\n",
    "sns.heatmap(mtx, annot=True, fmt='d', linewidths=.8)\n",
    "plt.ylabel('True label')\n",
    "plt.xlabel('Predicted label')\n",
    "plt.title('Result on Validation set')\n",
    "plt.show()"
   ]
  },
  {
   "attachments": {},
   "cell_type": "markdown",
   "metadata": {},
   "source": [
    "#### Take a look at the **history** recorded by this model, convergence sounds good."
   ]
  },
  {
   "cell_type": "code",
   "execution_count": 19,
   "metadata": {},
   "outputs": [
    {
     "data": {
      "image/png": "[encoded data removed]",
      "text/plain": [
       "<Figure size 432x288 with 1 Axes>"
      ]
     },
     "metadata": {
      "needs_background": "light"
     },
     "output_type": "display_data"
    }
   ],
   "source": [
    "# Visualization of the training process on the loss function \n",
    "plt.plot(history.history[\"loss\"], color=\"b\", label='loss')\n",
    "plt.plot(history.history[\"val_loss\"], color=\"r\", label='val_loss')\n",
    "plt.ylabel(\"loss\")\n",
    "plt.xlabel(\"Epochs\")\n",
    "plt.legend(loc=\"upper right\")\n",
    "plt.show()\n"
   ]
  },
  {
   "cell_type": "code",
   "execution_count": 20,
   "metadata": {},
   "outputs": [
    {
     "data": {
      "image/png": "[encoded data removed]",
      "text/plain": [
       "<Figure size 432x288 with 1 Axes>"
      ]
     },
     "metadata": {
      "needs_background": "light"
     },
     "output_type": "display_data"
    }
   ],
   "source": [
    "# Visualization of accuracy training \n",
    "plt.plot(history.history[\"accuracy\"], color=\"b\", label='accuracy')\n",
    "plt.plot(history.history[\"val_accuracy\"], color=\"r\", label='val_accuracy')\n",
    "plt.ylabel(\"accuracy\")\n",
    "plt.xlabel(\"Epochs\")\n",
    "plt.legend(loc=\"right\")\n",
    "plt.show()"
   ]
  },
  {
   "cell_type": "markdown",
   "metadata": {},
   "source": [
    "### Optionnal : Saving model and history"
   ]
  },
  {
   "cell_type": "code",
   "execution_count": 21,
   "metadata": {},
   "outputs": [],
   "source": [
    "# model.save(\"model_embedding_pretrained.h5\")"
   ]
  },
  {
   "cell_type": "code",
   "execution_count": 22,
   "metadata": {},
   "outputs": [],
   "source": [
    "# import json\n",
    "# json.dump(model.history.history, open(\"embedding_pretrained_history.json\", 'w'))"
   ]
  },
  {
   "attachments": {},
   "cell_type": "markdown",
   "metadata": {},
   "source": [
    "### Conclusion :\n",
    "- This model allow us to avoid text cleaning and despite this, it perform very well\n",
    "- Even if the time computing is quite long, it seems to be a very good solution\n",
    "- It was quite difficult to test google/universal-sentence-encoder/4 on my own PC due to the time computing very important\n",
    "- I tried https://tfhub.dev/google/nnlm-en-dim128-with-normalization/2 : very interesting solution, the results were very good with a drawback: overfitting to handle"
   ]
  }
 ],
 "metadata": {
  "kernelspec": {
   "display_name": "Python 3.9.3 64-bit",
   "language": "python",
   "name": "python3"
  },
  "language_info": {
   "codemirror_mode": {
    "name": "ipython",
    "version": 3
   },
   "file_extension": ".py",
   "mimetype": "text/x-python",
   "name": "python",
   "nbconvert_exporter": "python",
   "pygments_lexer": "ipython3",
   "version": "3.9.3"
  },
  "orig_nbformat": 4,
  "vscode": {
   "interpreter": {
    "hash": "5a1ee337b682cd95343797d80150fd2bd6ab72b1f35807bec9bb1f0b7fb0c443"
   }
  }
 },
 "nbformat": 4,
 "nbformat_minor": 2
}
